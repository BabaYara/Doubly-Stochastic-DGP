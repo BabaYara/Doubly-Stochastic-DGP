{
 "cells": [
  {
   "cell_type": "markdown",
   "metadata": {},
   "source": [
    "# MNIST classification\n",
    "\n",
    "Timings here are for a machine with a K80 GPU (an Azure NC6 instance). Running with a CPU only machine is going to quite a bit slower. \n",
    "\n",
    "**This requires tensorflow 1.0. For some reason things are breaking on tensorflow 1.1 (https://github.com/GPflow/GPflow/issues/415)**"
   ]
  },
  {
   "cell_type": "code",
   "execution_count": 1,
   "metadata": {},
   "outputs": [
    {
     "name": "stdout",
     "output_type": "stream",
     "text": [
      "Extracting ../data/MNIST_data/train-images-idx3-ubyte.gz\n",
      "Extracting ../data/MNIST_data/train-labels-idx1-ubyte.gz\n",
      "Extracting ../data/MNIST_data/t10k-images-idx3-ubyte.gz\n",
      "Extracting ../data/MNIST_data/t10k-labels-idx1-ubyte.gz\n"
     ]
    }
   ],
   "source": [
    "import matplotlib.pyplot as plt\n",
    "%matplotlib inline\n",
    "\n",
    "import sys\n",
    "sys.path.append('../src')\n",
    "\n",
    "import numpy as np\n",
    "import tensorflow as tf\n",
    "\n",
    "from gpflow.likelihoods import MultiClass\n",
    "from gpflow.kernels import RBF, White, Linear, Matern32, Matern52\n",
    "from gpflow.svgp import SVGP\n",
    "from gpflow.gpr import GPR\n",
    "\n",
    "from gpflow.param import AutoFlow\n",
    "\n",
    "from scipy.stats import mode\n",
    "from scipy.cluster.vq import kmeans2\n",
    "\n",
    "from get_data import get_mnist_data\n",
    "from dgp import DGP\n",
    "\n",
    "import time\n",
    "\n",
    "X, Y, Xs, Ys = get_mnist_data()"
   ]
  },
  {
   "cell_type": "markdown",
   "metadata": {},
   "source": [
    "We'll use 100 inducing points "
   ]
  },
  {
   "cell_type": "code",
   "execution_count": 2,
   "metadata": {
    "collapsed": true
   },
   "outputs": [],
   "source": [
    "M = 100\n",
    "Z = kmeans2(X, M, minit='points')[0]"
   ]
  },
  {
   "cell_type": "markdown",
   "metadata": {},
   "source": [
    "Slightly annoyingly,  `AutoFlow` takes `Ynew` as a `float_type` in `predict_density`, but for the mutliclass likelihood the input is `tf.int32` (also the number of dimensions are different). We defined both versions in our `DGP` class, but as a workaround for `SVGP` we just override the behaviour:\n"
   ]
  },
  {
   "cell_type": "code",
   "execution_count": 3,
   "metadata": {
    "collapsed": true
   },
   "outputs": [],
   "source": [
    "class MultiClassSVPG(SVGP):\n",
    "    @AutoFlow((tf.float64, [None, None]), (tf.int32, [None,]))\n",
    "    def predict_density(self, Xnew, Ynew):\n",
    "        pred_f_mean, pred_f_var = self.build_predict(Xnew)\n",
    "        return self.likelihood.predict_density(pred_f_mean, pred_f_var, Ynew)"
   ]
  },
  {
   "cell_type": "markdown",
   "metadata": {},
   "source": [
    "We'll compare three models: an ordinary sparse GP and DGPs with 2 and 3 layers. \n",
    "\n",
    "We'll use a batch size of 10000 for all models "
   ]
  },
  {
   "cell_type": "code",
   "execution_count": 4,
   "metadata": {
    "collapsed": true
   },
   "outputs": [],
   "source": [
    "m_sgp = MultiClassSVPG(X, Y, RBF(784, lengthscales=2, variance=2), \n",
    "             MultiClass(10), Z, \n",
    "             num_latent=10, minibatch_size=10000, whiten=True)\n",
    "\n",
    "def make_dgp(L):\n",
    "    kernels = [RBF(784, lengthscales=2., variance=2.)]\n",
    "    for l in range(L-1):\n",
    "        kernels.append(RBF(30, lengthscales=2., variance=2.))\n",
    "    model = DGP(X, Y, Z, kernels, MultiClass(10), \n",
    "                num_samples=1,\n",
    "                minibatch_size=10000,\n",
    "                num_latent_Y=10)\n",
    "\n",
    "    for layer in model.layers[:-1]:\n",
    "        layer.q_sqrt = layer.q_sqrt.value * 1e-5 \n",
    "    \n",
    "    return model\n",
    "\n",
    "m_dgp2 = make_dgp(2)\n",
    "m_dgp3 = make_dgp(3)"
   ]
  },
  {
   "cell_type": "markdown",
   "metadata": {},
   "source": [
    "For the SGP model we'll calcuate accuracy by simply taking the max mean prediction:"
   ]
  },
  {
   "cell_type": "code",
   "execution_count": 5,
   "metadata": {
    "collapsed": true
   },
   "outputs": [],
   "source": [
    "def assess_model_sgp(model, X_batch, Y_batch):\n",
    "    m, v = model.predict_y(X_batch)\n",
    "    l = model.predict_density(X_batch, Y_batch)\n",
    "    a = (np.argmax(m, 1)==Y_batch)\n",
    "    return l, a"
   ]
  },
  {
   "cell_type": "markdown",
   "metadata": {},
   "source": [
    "For the DGP models we have stochastic predictions. We need a single prediction for each datum, so to do this we take $S$ samples for the one-hot predictions ($(S, N, 10)$ matrices for mean and var), then we take the max over the class means (to give a $(S, N)$ matrix), and finally we take the modal class over the samples (to give a vector of length $N$):\n",
    "\n",
    "We'll use 100 samples"
   ]
  },
  {
   "cell_type": "code",
   "execution_count": 6,
   "metadata": {
    "collapsed": true
   },
   "outputs": [],
   "source": [
    "S = 100\n",
    "def assess_model_dgp(model, X_batch, Y_batch):\n",
    "    m, v = model.predict_y(X_batch, S)\n",
    "    l = model.predict_density_multiclass(X_batch, Y_batch, S)\n",
    "    a = (mode(np.argmax(m, 2), 0)[0].flatten()==Y_batch)\n",
    "    return l, a"
   ]
  },
  {
   "cell_type": "markdown",
   "metadata": {},
   "source": [
    "We need batch predictions (we might run out of memory otherwise)"
   ]
  },
  {
   "cell_type": "code",
   "execution_count": 7,
   "metadata": {
    "collapsed": true
   },
   "outputs": [],
   "source": [
    "def batch_assess(model, assess_model, X, Y):\n",
    "    n_batches = int(len(X)/1000)\n",
    "    lik, acc = [], []\n",
    "    for X_batch, Y_batch in zip(np.split(X, n_batches), np.split(Y, n_batches)):\n",
    "        l, a = assess_model(model, X_batch, Y_batch)\n",
    "        lik.append(l)\n",
    "        acc.append(a)\n",
    "    lik = np.concatenate(lik, 0)\n",
    "    acc = np.array(np.concatenate(acc, 0), dtype=float)\n",
    "    return np.average(lik), np.average(acc)"
   ]
  },
  {
   "cell_type": "markdown",
   "metadata": {},
   "source": [
    "Finally, we'll use the following callback to log what's going on. We'll train for 10000 iterations, printing every 1000 to see how convergence is doing. We'll predict also at the training data to see what's going (we don't use a validation set). "
   ]
  },
  {
   "cell_type": "code",
   "execution_count": 8,
   "metadata": {
    "collapsed": true
   },
   "outputs": [],
   "source": [
    "class CB(object):\n",
    "    def __init__(self, model, assess_model):\n",
    "        self.model = model\n",
    "        self.assess_model = assess_model\n",
    "        self.i = 0\n",
    "        self.t = time.time()\n",
    "        self.train_time = 0\n",
    "        self.ob = []\n",
    "        self.train_lik = []\n",
    "        self.train_acc = []\n",
    "    def cb(self, x):\n",
    "        self.i += 1\n",
    "        if self.i % 1000 == 0:\n",
    "            # time how long we've be training \n",
    "            self.train_time += time.time() - self.t\n",
    "            self.t = time.time()\n",
    "            \n",
    "            # assess the model on the training data\n",
    "            self.model.set_state(x)\n",
    "            lik, acc = batch_assess(self.model, self.assess_model, X, Y)\n",
    "            self.train_lik.append(lik)\n",
    "            self.train_acc.append(acc)\n",
    "            \n",
    "            # calculate the objective, averaged over S samples \n",
    "            ob = 0\n",
    "            for _ in range(1):\n",
    "                ob += self.model.compute_log_likelihood()/float(1)\n",
    "            self.ob.append(ob)\n",
    "            \n",
    "            st = 'it: {}, ob: {:.1f}, train lik: {:.4f}, train acc {:.4f}'\n",
    "            print st.format(self.i, ob, lik, acc)"
   ]
  },
  {
   "cell_type": "markdown",
   "metadata": {},
   "source": [
    "Now we're ready to go\n",
    "\n",
    "The sparse GP:"
   ]
  },
  {
   "cell_type": "code",
   "execution_count": 9,
   "metadata": {},
   "outputs": [
    {
     "name": "stdout",
     "output_type": "stream",
     "text": [
      "it: 1000, ob: -33154.9, train lik: -0.1107, train acc 0.9728\n",
      "it: 2000, ob: -28451.0, train lik: -0.0937, train acc 0.9788\n",
      "it: 3000, ob: -28337.6, train lik: -0.0895, train acc 0.9802\n",
      "it: 4000, ob: -27294.9, train lik: -0.0863, train acc 0.9806\n",
      "it: 5000, ob: -27199.4, train lik: -0.0865, train acc 0.9812\n",
      "it: 6000, ob: -27522.2, train lik: -0.0854, train acc 0.9817\n",
      "it: 7000, ob: -26544.2, train lik: -0.0831, train acc 0.9821\n",
      "it: 8000, ob: -27154.6, train lik: -0.0833, train acc 0.9817\n",
      "it: 9000, ob: -27591.8, train lik: -0.0834, train acc 0.9816\n",
      "it: 10000, ob: -27926.8, train lik: -0.0829, train acc 0.9820\n",
      "sgp total train time 1429.0665\n",
      "spg test lik: -0.0973, test acc 0.9728\n"
     ]
    }
   ],
   "source": [
    "cb_sgp = CB(m_sgp, assess_model_sgp)\n",
    "m_sgp.optimize(tf.train.AdamOptimizer(0.01), maxiter=10000, callback=cb_sgp.cb)\n",
    "print 'sgp total train time {:.4f}'.format(cb_sgp.train_time)\n",
    "l, a = batch_assess(m_sgp, assess_model_sgp, Xs, Ys)\n",
    "print 'spg test lik: {:.4f}, test acc {:.4f}'.format(l, a)"
   ]
  },
  {
   "cell_type": "markdown",
   "metadata": {},
   "source": [
    "Using more inducing points improves things, but at the expense of very slow computation (500 inducing points takes about a day)\n",
    "\n",
    "The two layer DGP:"
   ]
  },
  {
   "cell_type": "code",
   "execution_count": 10,
   "metadata": {},
   "outputs": [
    {
     "name": "stdout",
     "output_type": "stream",
     "text": [
      "it: 1000, ob: -31624.0, train lik: -0.0790, train acc 0.9809\n",
      "it: 2000, ob: -25995.5, train lik: -0.0642, train acc 0.9857\n",
      "it: 3000, ob: -23320.1, train lik: -0.0589, train acc 0.9877\n",
      "it: 4000, ob: -21757.0, train lik: -0.0576, train acc 0.9880\n",
      "it: 5000, ob: -19803.2, train lik: -0.0555, train acc 0.9888\n",
      "it: 6000, ob: -19860.2, train lik: -0.0548, train acc 0.9888\n",
      "it: 7000, ob: -19172.3, train lik: -0.0540, train acc 0.9893\n",
      "it: 8000, ob: -19212.3, train lik: -0.0545, train acc 0.9891\n",
      "it: 9000, ob: -19373.0, train lik: -0.0546, train acc 0.9893\n",
      "it: 10000, ob: -19533.8, train lik: -0.0532, train acc 0.9895\n",
      "dgp2 total train time 3543.4270\n",
      "dgp2 test lik: -0.0703, test acc 0.9804\n"
     ]
    }
   ],
   "source": [
    "cb_dgp2 = CB(m_dgp2, assess_model_dgp)\n",
    "m_dgp2.optimize(tf.train.AdamOptimizer(0.01), maxiter=10000, callback=cb_dgp2.cb)\n",
    "print 'dgp2 total train time {:.4f}'.format(cb_dgp2.train_time)\n",
    "l, a = batch_assess(m_dgp2, assess_model_dgp, Xs, Ys)\n",
    "print 'dgp2 test lik: {:.4f}, test acc {:.4f}'.format(l, a)"
   ]
  },
  {
   "cell_type": "markdown",
   "metadata": {
    "collapsed": true
   },
   "source": [
    "And the three layer:"
   ]
  },
  {
   "cell_type": "code",
   "execution_count": 12,
   "metadata": {},
   "outputs": [
    {
     "name": "stdout",
     "output_type": "stream",
     "text": [
      "it: 1000, ob: -35776.0, train lik: -0.0726, train acc 0.9824\n",
      "it: 2000, ob: -29525.7, train lik: -0.0624, train acc 0.9866\n",
      "it: 3000, ob: -26970.0, train lik: -0.0578, train acc 0.9875\n",
      "it: 4000, ob: -24884.1, train lik: -0.0551, train acc 0.9887\n",
      "it: 5000, ob: -22423.2, train lik: -0.0544, train acc 0.9891\n",
      "it: 6000, ob: -21019.2, train lik: -0.0537, train acc 0.9891\n",
      "it: 7000, ob: -20946.4, train lik: -0.0530, train acc 0.9891\n",
      "it: 8000, ob: -20679.7, train lik: -0.0528, train acc 0.9892\n",
      "it: 9000, ob: -20330.9, train lik: -0.0521, train acc 0.9896\n",
      "it: 10000, ob: -21785.5, train lik: -0.0521, train acc 0.9894\n",
      "dgp3 total train time 5486.0293\n",
      "dgp3 test lik: -0.0681, test acc 0.9811\n"
     ]
    }
   ],
   "source": [
    "cb_dgp3 = CB(m_dgp3, assess_model_dgp)\n",
    "m_dgp3.optimize(tf.train.AdamOptimizer(0.01), maxiter=10000, callback=cb_dgp3.cb)\n",
    "print 'dgp3 total train time {:.4f}'.format(cb_dgp3.train_time)\n",
    "l, a = batch_assess(m_dgp3, assess_model_dgp, Xs, Ys)\n",
    "print 'dgp3 test lik: {:.4f}, test acc {:.4f}'.format(l, a)"
   ]
  },
  {
   "cell_type": "markdown",
   "metadata": {},
   "source": [
    "The 3 layer DGP is best on both accuracy and likelihood, though the improvement over the 2 layer is slight. \n",
    "\n",
    "We can see how they've done over the training"
   ]
  },
  {
   "cell_type": "code",
   "execution_count": 15,
   "metadata": {},
   "outputs": [
    {
     "data": {
      "image/png": "[encoded data removed]",
      "text/plain": [
       "<matplotlib.figure.Figure at 0x7f70685f2d10>"
      ]
     },
     "metadata": {},
     "output_type": "display_data"
    }
   ],
   "source": [
    "import matplotlib.pyplot as plt\n",
    "%matplotlib inline\n",
    "plt.plot(cb_sgp.train_acc, label='sgp')\n",
    "plt.plot(cb_dgp2.train_acc, label='dgp2')\n",
    "plt.plot(cb_dgp3.train_acc, label='dgp3')\n",
    "plt.title('train accuray')\n",
    "plt.legend()\n",
    "plt.show()"
   ]
  },
  {
   "cell_type": "code",
   "execution_count": 16,
   "metadata": {},
   "outputs": [
    {
     "data": {
      "image/png": "[encoded data removed]",
      "text/plain": [
       "<matplotlib.figure.Figure at 0x7f6ff2a73e90>"
      ]
     },
     "metadata": {},
     "output_type": "display_data"
    }
   ],
   "source": [
    "plt.plot(cb_sgp.train_lik, label='sgp')\n",
    "plt.plot(cb_dgp2.train_lik, label='dgp2')\n",
    "plt.plot(cb_dgp3.train_lik, label='dgp3')\n",
    "plt.title('train likelihood')\n",
    "plt.legend()\n",
    "plt.show()"
   ]
  }
 ],
 "metadata": {
  "kernelspec": {
   "display_name": "Python 2",
   "language": "python",
   "name": "python2"
  },
  "language_info": {
   "codemirror_mode": {
    "name": "ipython",
    "version": 2
   },
   "file_extension": ".py",
   "mimetype": "text/x-python",
   "name": "python",
   "nbconvert_exporter": "python",
   "pygments_lexer": "ipython2",
   "version": "2.7.12"
  }
 },
 "nbformat": 4,
 "nbformat_minor": 1
}
