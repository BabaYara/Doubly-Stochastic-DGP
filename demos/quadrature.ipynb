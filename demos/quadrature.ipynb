{
 "cells": [
  {
   "cell_type": "code",
   "execution_count": 1,
   "metadata": {},
   "outputs": [
    {
     "data": {
      "application/javascript": [
       "IPython.OutputArea.auto_scroll_threshold = 9999;"
      ],
      "text/plain": [
       "<IPython.core.display.Javascript object>"
      ]
     },
     "metadata": {},
     "output_type": "display_data"
    }
   ],
   "source": [
    "%%javascript\n",
    "IPython.OutputArea.auto_scroll_threshold = 9999;"
   ]
  },
  {
   "cell_type": "code",
   "execution_count": 2,
   "metadata": {},
   "outputs": [],
   "source": [
    "import numpy as np\n",
    "import tensorflow as tf\n",
    "\n",
    "import sys\n",
    "sys.path.append('../')\n",
    "\n",
    "from gpflow.params import Parameterized\n",
    "from gpflow import autoflow, params_as_tensors\n",
    "from gpflow.kernels import RBF\n",
    "from gpflow.likelihoods import Gaussian\n",
    "\n",
    "from gpflow.training import AdamOptimizer\n",
    "from natural_gradients_gpflow.natural_gradient_optimizers import NaturalGradientsWithAdamOptimizer\n",
    "\n",
    "from doubly_stochastic_dgp.dgp import DGP as _DGP\n",
    "from doubly_stochastic_dgp.dgp import DGP_quad as _DGP_quad\n",
    "\n",
    "from matplotlib import cm\n",
    "from scipy.stats import norm\n",
    "\n",
    "\n",
    "# plotting\n",
    "import matplotlib.pyplot as plt"
   ]
  },
  {
   "cell_type": "code",
   "execution_count": 3,
   "metadata": {},
   "outputs": [],
   "source": [
    "from gpflow import settings\n",
    "class DGP_quad(_DGP_quad):\n",
    "    def __init__(self, name, *args, **kwargs):\n",
    "        _DGP_quad.__init__(self, *args, **kwargs)\n",
    "        self.model_name = name\n",
    "    @params_as_tensors\n",
    "    @autoflow((settings.float_type, [None, None]),\n",
    "             (settings.float_type, [None, None]),\n",
    "             (settings.float_type, [None, None]))\n",
    "    def custom_z_log_p_Y(self, X, Y, z):\n",
    "        s, e = 0, 0\n",
    "        zs = []\n",
    "        for layer in self.layers[:-1]:\n",
    "            e += tf.cast(layer.q_mu.shape[1], dtype=tf.int64)\n",
    "            zs.append(z[:, s:e])  # this is broken up into each layer, for ease of use\n",
    "            s = e\n",
    "        zs.append(tf.zeros([1, 1], dtype=tf.float64))\n",
    "        Fs, Fmeans, Fvars = self.quadrature_propagate(X, zs)\n",
    "        var_exp = self.likelihood.variational_expectations(Fmeans[-1], Fvars[-1], Y)  # S, N, D\n",
    "        return var_exp\n",
    "    \n",
    "class DGP(_DGP):\n",
    "    def __init__(self, name, *args, **kwargs):\n",
    "        _DGP.__init__(self, *args, **kwargs)\n",
    "        self.model_name = name\n",
    "        "
   ]
  },
  {
   "cell_type": "code",
   "execution_count": 25,
   "metadata": {},
   "outputs": [
    {
     "data": {
      "image/png": "[encoded data removed]",
      "text/plain": [
       "<matplotlib.figure.Figure at 0x7f456ed346a0>"
      ]
     },
     "metadata": {},
     "output_type": "display_data"
    }
   ],
   "source": [
    "kerns = lambda : [RBF(1, lengthscales=0.5, variance=0.5), RBF(1, lengthscales=0.2)]\n",
    "\n",
    "def lik():\n",
    "    l = Gaussian()\n",
    "    l.variance = 0.005\n",
    "    return l\n",
    "\n",
    "\n",
    "N, Ns = 80, 300\n",
    "M = 50\n",
    "X = np.random.uniform(0, 1, N).reshape(-1, 1)\n",
    "X.sort()\n",
    "# X = np.linspace(0, 1, N).reshape(-1, 1)\n",
    "Xs = np.linspace(0, 1, Ns).reshape(-1, 1)\n",
    "Z = np.linspace(-2, 2, M).reshape(-1, 1)\n",
    "\n",
    "noise_var = 0.05\n",
    "\n",
    "data_model = DGP('data', X, X, Z, kerns(), lik())\n",
    "m, v = data_model.predict_f_full_cov(X, 1)\n",
    "Y = np.random.multivariate_normal(m[0, :, 0], v[0, :, :, 0] + np.eye(N)*noise_var).reshape(-1, 1)\n",
    "\n",
    "# Y = np.sin(10*X) + np.random.randn(*X.shape) * 0.01\n",
    "plt.scatter(X, Y)\n",
    "plt.show()"
   ]
  },
  {
   "cell_type": "code",
   "execution_count": null,
   "metadata": {},
   "outputs": [],
   "source": [
    "models_stochastic = []\n",
    "models_quad = []\n",
    "\n",
    "for s in [100, ]:\n",
    "    models_stochastic.append(DGP('S={}'.format(s), X, Y, Z, kerns(), lik(), \n",
    "                                 num_samples=s))\n",
    "\n",
    "for q in [100, ]:\n",
    "    models_stochastic.append(DGP_quad('Q={}'.format(q), X, Y, Z, kerns(), lik(), \n",
    "                                      H=q))\n",
    "\n",
    "models = models_stochastic + models_quad\n"
   ]
  },
  {
   "cell_type": "code",
   "execution_count": null,
   "metadata": {},
   "outputs": [],
   "source": [
    "for model in models:\n",
    "    p = [[model.layers[-1].q_mu, model.layers[-1].q_sqrt]]\n",
    "    NaturalGradientsWithAdamOptimizer(0.01).minimize(model, maxiter=1000, nat_grads_params_list=p)\n",
    "    "
   ]
  },
  {
   "cell_type": "code",
   "execution_count": null,
   "metadata": {},
   "outputs": [],
   "source": [
    "L = len(models[0].layers)\n",
    "fig, axs = plt.subplots(1, L, figsize=(L*10, 10))\n",
    "\n",
    "for model in models:\n",
    "    \n",
    "    lFs, lms, lvs = model.predict_all_layers_full_cov(Xs, 5)\n",
    "    \n",
    "    \n",
    "    for Fs, ms, vs, ax in zip(lFs, lms, lvs, axs):\n",
    "        ms = ms[:, :, 0]\n",
    "        vs = vs[:, :, 0]\n",
    "        m = np.average(ms, 0)\n",
    "        v_diag = np.array([np.diag(_v) for _v in vs])\n",
    "        v = np.average((m[None, :] - ms)**2 + v_diag, 0)\n",
    "        ax.plot(Xs.flatten(), m, label=model.model_name)\n",
    "        l, u = [m + s * v**0.5 for s in [2, -2]]\n",
    "        ax.fill_between(Xs.flatten(), l, u, alpha=0.1)\n",
    "        ax.plot(Xs.flatten(), Fs[:, :, 0].T)\n",
    "\n",
    "plt.scatter(X, Y)\n",
    "    \n",
    "plt.legend()\n",
    "plt.show()"
   ]
  },
  {
   "cell_type": "code",
   "execution_count": 14,
   "metadata": {},
   "outputs": [],
   "source": [
    "plt.show()"
   ]
  },
  {
   "cell_type": "code",
   "execution_count": 15,
   "metadata": {},
   "outputs": [
    {
     "name": "stdout",
     "output_type": "stream",
     "text": [
      "S=100\n",
      "83.0066320039\n",
      "82.9181446039\n",
      "82.9977871059\n",
      "Q=100\n",
      "-1392.05982746\n",
      "-1392.05982746\n",
      "-1392.05982746\n"
     ]
    }
   ],
   "source": [
    "for model in models:\n",
    "    print(model.model_name)\n",
    "    for _ in range(3):\n",
    "        print(model.compute_log_likelihood())"
   ]
  },
  {
   "cell_type": "code",
   "execution_count": 16,
   "metadata": {},
   "outputs": [
    {
     "data": {
      "image/png": "[encoded data removed]",
      "text/plain": [
       "<matplotlib.figure.Figure at 0x7f457dad99b0>"
      ]
     },
     "metadata": {},
     "output_type": "display_data"
    }
   ],
   "source": [
    "for model in models:\n",
    "    L = [model.compute_log_likelihood() for _ in range(50)]\n",
    "    plt.plot(L, label=model.model_name)\n",
    "\n",
    "plt.legend()\n",
    "plt.show()"
   ]
  },
  {
   "cell_type": "code",
   "execution_count": 17,
   "metadata": {
    "collapsed": true
   },
   "outputs": [],
   "source": [
    "model = models[-1]\n",
    "zs = np.linspace(-5, 5, 1000).reshape(-1, 1)"
   ]
  },
  {
   "cell_type": "code",
   "execution_count": 18,
   "metadata": {},
   "outputs": [],
   "source": [
    "r = model.custom_z_log_p_Y(X, Y, zs)"
   ]
  },
  {
   "cell_type": "code",
   "execution_count": 19,
   "metadata": {},
   "outputs": [
    {
     "name": "stdout",
     "output_type": "stream",
     "text": [
      "(1000, 80, 1)\n",
      "                                             class prior   transform  \\\n",
      "DGP_quad/layers/item0/q_mu               Parameter  None      (none)   \n",
      "DGP_quad/layers/item0/q_sqrt             Parameter  None  LoTri->vec   \n",
      "DGP_quad/layers/item0/kern/lengthscales  Parameter  None         +ve   \n",
      "DGP_quad/layers/item0/kern/variance      Parameter  None         +ve   \n",
      "DGP_quad/layers/item0/feature/Z          Parameter  None      (none)   \n",
      "DGP_quad/layers/item0/mean_function/A    Parameter  None      (none)   \n",
      "DGP_quad/layers/item0/mean_function/b    Parameter  None      (none)   \n",
      "DGP_quad/layers/item1/q_mu               Parameter  None      (none)   \n",
      "DGP_quad/layers/item1/q_sqrt             Parameter  None  LoTri->vec   \n",
      "DGP_quad/layers/item1/kern/lengthscales  Parameter  None         +ve   \n",
      "DGP_quad/layers/item1/kern/variance      Parameter  None         +ve   \n",
      "DGP_quad/layers/item1/feature/Z          Parameter  None      (none)   \n",
      "\n",
      "                                         trainable        shape  fixed_shape  \\\n",
      "DGP_quad/layers/item0/q_mu                    True      (50, 1)         True   \n",
      "DGP_quad/layers/item0/q_sqrt                  True  (1, 50, 50)         True   \n",
      "DGP_quad/layers/item0/kern/lengthscales       True           ()         True   \n",
      "DGP_quad/layers/item0/kern/variance           True           ()         True   \n",
      "DGP_quad/layers/item0/feature/Z               True      (50, 1)         True   \n",
      "DGP_quad/layers/item0/mean_function/A        False       (1, 1)         True   \n",
      "DGP_quad/layers/item0/mean_function/b        False         (1,)         True   \n",
      "DGP_quad/layers/item1/q_mu                    True      (50, 1)         True   \n",
      "DGP_quad/layers/item1/q_sqrt                  True  (1, 50, 50)         True   \n",
      "DGP_quad/layers/item1/kern/lengthscales       True           ()         True   \n",
      "DGP_quad/layers/item1/kern/variance           True           ()         True   \n",
      "DGP_quad/layers/item1/feature/Z               True      (50, 1)         True   \n",
      "\n",
      "                                                                                     value  \n",
      "DGP_quad/layers/item0/q_mu               [[0.00409342401294], [0.0253205719441], [0.721...  \n",
      "DGP_quad/layers/item0/q_sqrt             [[[0.999968849778, 0.0, 0.0, 0.0, 0.0, 0.0, 0....  \n",
      "DGP_quad/layers/item0/kern/lengthscales                                 0.3079420010917349  \n",
      "DGP_quad/layers/item0/kern/variance                                      0.923177958632265  \n",
      "DGP_quad/layers/item0/feature/Z          [[-1.39575249994], [-1.32505883141], [-1.00023...  \n",
      "DGP_quad/layers/item0/mean_function/A                                              [[1.0]]  \n",
      "DGP_quad/layers/item0/mean_function/b                                                [0.0]  \n",
      "DGP_quad/layers/item1/q_mu               [[-2.58309595234], [0.211955939905], [0.254514...  \n",
      "DGP_quad/layers/item1/q_sqrt             [[[0.552572153332, 0.0, 0.0, 0.0, 0.0, 0.0, 0....  \n",
      "DGP_quad/layers/item1/kern/lengthscales                                0.06654055873319144  \n",
      "DGP_quad/layers/item1/kern/variance                                    0.20692209176632756  \n",
      "DGP_quad/layers/item1/feature/Z          [[-3.0985365419], [-2.89376615944], [-2.551384...  \n"
     ]
    },
    {
     "name": "stderr",
     "output_type": "stream",
     "text": [
      "/vol/bitbucket/hrs13/GPflow/gpflow/misc.py:30: FutureWarning: '.reindex_axis' is deprecated and will be removed in a future version. Use '.reindex' instead.\n",
      "  df = df.reindex_axis(keys, axis=1)\n"
     ]
    }
   ],
   "source": [
    "print(r.shape)\n",
    "print(model)"
   ]
  },
  {
   "cell_type": "code",
   "execution_count": 20,
   "metadata": {},
   "outputs": [
    {
     "data": {
      "image/png": "[encoded data removed]",
      "text/plain": [
       "<matplotlib.figure.Figure at 0x7f4574336dd8>"
      ]
     },
     "metadata": {},
     "output_type": "display_data"
    }
   ],
   "source": [
    "fs = norm.pdf(zs.flatten())\n",
    "\n",
    "for i, rr in enumerate(r[:, :, 0].T):\n",
    "    \n",
    "    plt.plot(zs, rr * fs, c=cm.jet(np.linspace(0, 1, N)[i]))\n",
    "    \n",
    "#     plt.plot(zs, rr, c=cm.jet(np.linspace(0, 1, N)[i]))\n",
    "#     plt.show()\n",
    "plt.show()"
   ]
  },
  {
   "cell_type": "code",
   "execution_count": null,
   "metadata": {},
   "outputs": [],
   "source": []
  },
  {
   "cell_type": "code",
   "execution_count": null,
   "metadata": {
    "collapsed": true
   },
   "outputs": [],
   "source": []
  },
  {
   "cell_type": "code",
   "execution_count": null,
   "metadata": {
    "collapsed": true
   },
   "outputs": [],
   "source": []
  },
  {
   "cell_type": "code",
   "execution_count": null,
   "metadata": {
    "collapsed": true
   },
   "outputs": [],
   "source": []
  },
  {
   "cell_type": "code",
   "execution_count": null,
   "metadata": {
    "collapsed": true
   },
   "outputs": [],
   "source": [
    "# for layers in zip(*[model.layers for model in models]):\n",
    "#     q_mu = np.random.randn(M, 1)\n",
    "#     q_sqrt = np.random.randn(M, M, 1)\n",
    "    \n",
    "#     for layer in layers:\n",
    "#         layer.q_mu = q_mu\n",
    "#         layer.q_sqrt = q_sqrt\n",
    "\n"
   ]
  }
 ],
 "metadata": {
  "kernelspec": {
   "display_name": "Python [default]",
   "language": "python",
   "name": "python3"
  },
  "language_info": {
   "codemirror_mode": {
    "name": "ipython",
    "version": 3
   },
   "file_extension": ".py",
   "mimetype": "text/x-python",
   "name": "python",
   "nbconvert_exporter": "python",
   "pygments_lexer": "ipython3",
   "version": "3.5.4"
  }
 },
 "nbformat": 4,
 "nbformat_minor": 1
}
